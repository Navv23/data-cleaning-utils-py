{
 "cells": [
  {
   "cell_type": "markdown",
   "id": "89ee6047",
   "metadata": {
    "_cell_guid": "b1076dfc-b9ad-4769-8c92-a6c4dae69d19",
    "_uuid": "8f2839f25d086af736a60e9eeb907d3b93b6e0e5",
    "execution": {
     "iopub.execute_input": "2023-07-11T07:38:12.217771Z",
     "iopub.status.busy": "2023-07-11T07:38:12.217445Z",
     "iopub.status.idle": "2023-07-11T07:38:12.227786Z",
     "shell.execute_reply": "2023-07-11T07:38:12.226583Z",
     "shell.execute_reply.started": "2023-07-11T07:38:12.217744Z"
    },
    "papermill": {
     "duration": 0.010617,
     "end_time": "2023-07-12T18:07:31.108842",
     "exception": false,
     "start_time": "2023-07-12T18:07:31.098225",
     "status": "completed"
    },
    "tags": []
   },
   "source": [
    "## Importing Data"
   ]
  },
  {
   "cell_type": "code",
   "execution_count": 1,
   "id": "78f103bd",
   "metadata": {
    "execution": {
     "iopub.execute_input": "2023-07-12T18:07:31.128412Z",
     "iopub.status.busy": "2023-07-12T18:07:31.127707Z",
     "iopub.status.idle": "2023-07-12T18:07:31.136208Z",
     "shell.execute_reply": "2023-07-12T18:07:31.135356Z"
    },
    "papermill": {
     "duration": 0.020368,
     "end_time": "2023-07-12T18:07:31.138096",
     "exception": false,
     "start_time": "2023-07-12T18:07:31.117728",
     "status": "completed"
    },
    "tags": []
   },
   "outputs": [],
   "source": [
    "import pandas as pd\n",
    "import numpy as np"
   ]
  },
  {
   "cell_type": "code",
   "execution_count": 2,
   "id": "d02f3604",
   "metadata": {
    "execution": {
     "iopub.execute_input": "2023-07-12T18:07:31.158840Z",
     "iopub.status.busy": "2023-07-12T18:07:31.157739Z",
     "iopub.status.idle": "2023-07-12T18:07:42.856732Z",
     "shell.execute_reply": "2023-07-12T18:07:42.855639Z"
    },
    "papermill": {
     "duration": 11.712617,
     "end_time": "2023-07-12T18:07:42.859396",
     "exception": false,
     "start_time": "2023-07-12T18:07:31.146779",
     "status": "completed"
    },
    "tags": []
   },
   "outputs": [],
   "source": [
    "df = pd.read_csv(r\"/kaggle/input/zomato-dataset/zomato.csv\")"
   ]
  },
  {
   "cell_type": "markdown",
   "id": "b8153133",
   "metadata": {
    "papermill": {
     "duration": 0.008567,
     "end_time": "2023-07-12T18:07:42.876910",
     "exception": false,
     "start_time": "2023-07-12T18:07:42.868343",
     "status": "completed"
    },
    "tags": []
   },
   "source": [
    "## Initial Investigations"
   ]
  },
  {
   "cell_type": "code",
   "execution_count": 3,
   "id": "1728f27a",
   "metadata": {
    "execution": {
     "iopub.execute_input": "2023-07-12T18:07:42.895908Z",
     "iopub.status.busy": "2023-07-12T18:07:42.895509Z",
     "iopub.status.idle": "2023-07-12T18:07:42.924949Z",
     "shell.execute_reply": "2023-07-12T18:07:42.923867Z"
    },
    "papermill": {
     "duration": 0.041438,
     "end_time": "2023-07-12T18:07:42.927066",
     "exception": false,
     "start_time": "2023-07-12T18:07:42.885628",
     "status": "completed"
    },
    "tags": []
   },
   "outputs": [
    {
     "data": {
      "text/html": [
       "<div>\n",
       "<style scoped>\n",
       "    .dataframe tbody tr th:only-of-type {\n",
       "        vertical-align: middle;\n",
       "    }\n",
       "\n",
       "    .dataframe tbody tr th {\n",
       "        vertical-align: top;\n",
       "    }\n",
       "\n",
       "    .dataframe thead th {\n",
       "        text-align: right;\n",
       "    }\n",
       "</style>\n",
       "<table border=\"1\" class=\"dataframe\">\n",
       "  <thead>\n",
       "    <tr style=\"text-align: right;\">\n",
       "      <th></th>\n",
       "      <th>url</th>\n",
       "      <th>address</th>\n",
       "      <th>name</th>\n",
       "      <th>online_order</th>\n",
       "      <th>book_table</th>\n",
       "      <th>rate</th>\n",
       "      <th>votes</th>\n",
       "      <th>phone</th>\n",
       "      <th>location</th>\n",
       "      <th>rest_type</th>\n",
       "      <th>dish_liked</th>\n",
       "      <th>cuisines</th>\n",
       "      <th>approx_cost(for two people)</th>\n",
       "      <th>reviews_list</th>\n",
       "      <th>menu_item</th>\n",
       "      <th>listed_in(type)</th>\n",
       "      <th>listed_in(city)</th>\n",
       "    </tr>\n",
       "  </thead>\n",
       "  <tbody>\n",
       "    <tr>\n",
       "      <th>0</th>\n",
       "      <td>https://www.zomato.com/bangalore/jalsa-banasha...</td>\n",
       "      <td>942, 21st Main Road, 2nd Stage, Banashankari, ...</td>\n",
       "      <td>Jalsa</td>\n",
       "      <td>Yes</td>\n",
       "      <td>Yes</td>\n",
       "      <td>4.1/5</td>\n",
       "      <td>775</td>\n",
       "      <td>080 42297555\\r\\n+91 9743772233</td>\n",
       "      <td>Banashankari</td>\n",
       "      <td>Casual Dining</td>\n",
       "      <td>Pasta, Lunch Buffet, Masala Papad, Paneer Laja...</td>\n",
       "      <td>North Indian, Mughlai, Chinese</td>\n",
       "      <td>800</td>\n",
       "      <td>[('Rated 4.0', 'RATED\\n  A beautiful place to ...</td>\n",
       "      <td>[]</td>\n",
       "      <td>Buffet</td>\n",
       "      <td>Banashankari</td>\n",
       "    </tr>\n",
       "    <tr>\n",
       "      <th>1</th>\n",
       "      <td>https://www.zomato.com/bangalore/spice-elephan...</td>\n",
       "      <td>2nd Floor, 80 Feet Road, Near Big Bazaar, 6th ...</td>\n",
       "      <td>Spice Elephant</td>\n",
       "      <td>Yes</td>\n",
       "      <td>No</td>\n",
       "      <td>4.1/5</td>\n",
       "      <td>787</td>\n",
       "      <td>080 41714161</td>\n",
       "      <td>Banashankari</td>\n",
       "      <td>Casual Dining</td>\n",
       "      <td>Momos, Lunch Buffet, Chocolate Nirvana, Thai G...</td>\n",
       "      <td>Chinese, North Indian, Thai</td>\n",
       "      <td>800</td>\n",
       "      <td>[('Rated 4.0', 'RATED\\n  Had been here for din...</td>\n",
       "      <td>[]</td>\n",
       "      <td>Buffet</td>\n",
       "      <td>Banashankari</td>\n",
       "    </tr>\n",
       "    <tr>\n",
       "      <th>2</th>\n",
       "      <td>https://www.zomato.com/SanchurroBangalore?cont...</td>\n",
       "      <td>1112, Next to KIMS Medical College, 17th Cross...</td>\n",
       "      <td>San Churro Cafe</td>\n",
       "      <td>Yes</td>\n",
       "      <td>No</td>\n",
       "      <td>3.8/5</td>\n",
       "      <td>918</td>\n",
       "      <td>+91 9663487993</td>\n",
       "      <td>Banashankari</td>\n",
       "      <td>Cafe, Casual Dining</td>\n",
       "      <td>Churros, Cannelloni, Minestrone Soup, Hot Choc...</td>\n",
       "      <td>Cafe, Mexican, Italian</td>\n",
       "      <td>800</td>\n",
       "      <td>[('Rated 3.0', \"RATED\\n  Ambience is not that ...</td>\n",
       "      <td>[]</td>\n",
       "      <td>Buffet</td>\n",
       "      <td>Banashankari</td>\n",
       "    </tr>\n",
       "    <tr>\n",
       "      <th>3</th>\n",
       "      <td>https://www.zomato.com/bangalore/addhuri-udupi...</td>\n",
       "      <td>1st Floor, Annakuteera, 3rd Stage, Banashankar...</td>\n",
       "      <td>Addhuri Udupi Bhojana</td>\n",
       "      <td>No</td>\n",
       "      <td>No</td>\n",
       "      <td>3.7/5</td>\n",
       "      <td>88</td>\n",
       "      <td>+91 9620009302</td>\n",
       "      <td>Banashankari</td>\n",
       "      <td>Quick Bites</td>\n",
       "      <td>Masala Dosa</td>\n",
       "      <td>South Indian, North Indian</td>\n",
       "      <td>300</td>\n",
       "      <td>[('Rated 4.0', \"RATED\\n  Great food and proper...</td>\n",
       "      <td>[]</td>\n",
       "      <td>Buffet</td>\n",
       "      <td>Banashankari</td>\n",
       "    </tr>\n",
       "    <tr>\n",
       "      <th>4</th>\n",
       "      <td>https://www.zomato.com/bangalore/grand-village...</td>\n",
       "      <td>10, 3rd Floor, Lakshmi Associates, Gandhi Baza...</td>\n",
       "      <td>Grand Village</td>\n",
       "      <td>No</td>\n",
       "      <td>No</td>\n",
       "      <td>3.8/5</td>\n",
       "      <td>166</td>\n",
       "      <td>+91 8026612447\\r\\n+91 9901210005</td>\n",
       "      <td>Basavanagudi</td>\n",
       "      <td>Casual Dining</td>\n",
       "      <td>Panipuri, Gol Gappe</td>\n",
       "      <td>North Indian, Rajasthani</td>\n",
       "      <td>600</td>\n",
       "      <td>[('Rated 4.0', 'RATED\\n  Very good restaurant ...</td>\n",
       "      <td>[]</td>\n",
       "      <td>Buffet</td>\n",
       "      <td>Banashankari</td>\n",
       "    </tr>\n",
       "  </tbody>\n",
       "</table>\n",
       "</div>"
      ],
      "text/plain": [
       "                                                 url  \\\n",
       "0  https://www.zomato.com/bangalore/jalsa-banasha...   \n",
       "1  https://www.zomato.com/bangalore/spice-elephan...   \n",
       "2  https://www.zomato.com/SanchurroBangalore?cont...   \n",
       "3  https://www.zomato.com/bangalore/addhuri-udupi...   \n",
       "4  https://www.zomato.com/bangalore/grand-village...   \n",
       "\n",
       "                                             address                   name  \\\n",
       "0  942, 21st Main Road, 2nd Stage, Banashankari, ...                  Jalsa   \n",
       "1  2nd Floor, 80 Feet Road, Near Big Bazaar, 6th ...         Spice Elephant   \n",
       "2  1112, Next to KIMS Medical College, 17th Cross...        San Churro Cafe   \n",
       "3  1st Floor, Annakuteera, 3rd Stage, Banashankar...  Addhuri Udupi Bhojana   \n",
       "4  10, 3rd Floor, Lakshmi Associates, Gandhi Baza...          Grand Village   \n",
       "\n",
       "  online_order book_table   rate  votes                             phone  \\\n",
       "0          Yes        Yes  4.1/5    775    080 42297555\\r\\n+91 9743772233   \n",
       "1          Yes         No  4.1/5    787                      080 41714161   \n",
       "2          Yes         No  3.8/5    918                    +91 9663487993   \n",
       "3           No         No  3.7/5     88                    +91 9620009302   \n",
       "4           No         No  3.8/5    166  +91 8026612447\\r\\n+91 9901210005   \n",
       "\n",
       "       location            rest_type  \\\n",
       "0  Banashankari        Casual Dining   \n",
       "1  Banashankari        Casual Dining   \n",
       "2  Banashankari  Cafe, Casual Dining   \n",
       "3  Banashankari          Quick Bites   \n",
       "4  Basavanagudi        Casual Dining   \n",
       "\n",
       "                                          dish_liked  \\\n",
       "0  Pasta, Lunch Buffet, Masala Papad, Paneer Laja...   \n",
       "1  Momos, Lunch Buffet, Chocolate Nirvana, Thai G...   \n",
       "2  Churros, Cannelloni, Minestrone Soup, Hot Choc...   \n",
       "3                                        Masala Dosa   \n",
       "4                                Panipuri, Gol Gappe   \n",
       "\n",
       "                         cuisines approx_cost(for two people)  \\\n",
       "0  North Indian, Mughlai, Chinese                         800   \n",
       "1     Chinese, North Indian, Thai                         800   \n",
       "2          Cafe, Mexican, Italian                         800   \n",
       "3      South Indian, North Indian                         300   \n",
       "4        North Indian, Rajasthani                         600   \n",
       "\n",
       "                                        reviews_list menu_item  \\\n",
       "0  [('Rated 4.0', 'RATED\\n  A beautiful place to ...        []   \n",
       "1  [('Rated 4.0', 'RATED\\n  Had been here for din...        []   \n",
       "2  [('Rated 3.0', \"RATED\\n  Ambience is not that ...        []   \n",
       "3  [('Rated 4.0', \"RATED\\n  Great food and proper...        []   \n",
       "4  [('Rated 4.0', 'RATED\\n  Very good restaurant ...        []   \n",
       "\n",
       "  listed_in(type) listed_in(city)  \n",
       "0          Buffet    Banashankari  \n",
       "1          Buffet    Banashankari  \n",
       "2          Buffet    Banashankari  \n",
       "3          Buffet    Banashankari  \n",
       "4          Buffet    Banashankari  "
      ]
     },
     "execution_count": 3,
     "metadata": {},
     "output_type": "execute_result"
    }
   ],
   "source": [
    "df.head()"
   ]
  },
  {
   "cell_type": "code",
   "execution_count": 4,
   "id": "ed2743fa",
   "metadata": {
    "execution": {
     "iopub.execute_input": "2023-07-12T18:07:42.947488Z",
     "iopub.status.busy": "2023-07-12T18:07:42.946601Z",
     "iopub.status.idle": "2023-07-12T18:07:42.953043Z",
     "shell.execute_reply": "2023-07-12T18:07:42.952041Z"
    },
    "papermill": {
     "duration": 0.018622,
     "end_time": "2023-07-12T18:07:42.954993",
     "exception": false,
     "start_time": "2023-07-12T18:07:42.936371",
     "status": "completed"
    },
    "tags": []
   },
   "outputs": [
    {
     "data": {
      "text/plain": [
       "(51717, 17)"
      ]
     },
     "execution_count": 4,
     "metadata": {},
     "output_type": "execute_result"
    }
   ],
   "source": [
    "df.shape"
   ]
  },
  {
   "cell_type": "markdown",
   "id": "6a48373c",
   "metadata": {
    "papermill": {
     "duration": 0.008811,
     "end_time": "2023-07-12T18:07:42.972942",
     "exception": false,
     "start_time": "2023-07-12T18:07:42.964131",
     "status": "completed"
    },
    "tags": []
   },
   "source": [
    "## Handling Columns"
   ]
  },
  {
   "cell_type": "code",
   "execution_count": 5,
   "id": "27fe2417",
   "metadata": {
    "execution": {
     "iopub.execute_input": "2023-07-12T18:07:42.992619Z",
     "iopub.status.busy": "2023-07-12T18:07:42.992264Z",
     "iopub.status.idle": "2023-07-12T18:07:42.998529Z",
     "shell.execute_reply": "2023-07-12T18:07:42.997587Z"
    },
    "papermill": {
     "duration": 0.01867,
     "end_time": "2023-07-12T18:07:43.000569",
     "exception": false,
     "start_time": "2023-07-12T18:07:42.981899",
     "status": "completed"
    },
    "tags": []
   },
   "outputs": [
    {
     "data": {
      "text/plain": [
       "Index(['url', 'address', 'name', 'online_order', 'book_table', 'rate', 'votes',\n",
       "       'phone', 'location', 'rest_type', 'dish_liked', 'cuisines',\n",
       "       'approx_cost(for two people)', 'reviews_list', 'menu_item',\n",
       "       'listed_in(type)', 'listed_in(city)'],\n",
       "      dtype='object')"
      ]
     },
     "execution_count": 5,
     "metadata": {},
     "output_type": "execute_result"
    }
   ],
   "source": [
    "df.columns"
   ]
  },
  {
   "cell_type": "code",
   "execution_count": 6,
   "id": "2a3d49e2",
   "metadata": {
    "execution": {
     "iopub.execute_input": "2023-07-12T18:07:43.021392Z",
     "iopub.status.busy": "2023-07-12T18:07:43.020148Z",
     "iopub.status.idle": "2023-07-12T18:07:43.035602Z",
     "shell.execute_reply": "2023-07-12T18:07:43.034872Z"
    },
    "papermill": {
     "duration": 0.027826,
     "end_time": "2023-07-12T18:07:43.037633",
     "exception": false,
     "start_time": "2023-07-12T18:07:43.009807",
     "status": "completed"
    },
    "tags": []
   },
   "outputs": [],
   "source": [
    "df.drop(['url','phone','reviews_list','menu_item','dish_liked','listed_in(city)'],axis=1,inplace=True)"
   ]
  },
  {
   "cell_type": "code",
   "execution_count": 7,
   "id": "b3df59aa",
   "metadata": {
    "execution": {
     "iopub.execute_input": "2023-07-12T18:07:43.058068Z",
     "iopub.status.busy": "2023-07-12T18:07:43.057280Z",
     "iopub.status.idle": "2023-07-12T18:07:43.062676Z",
     "shell.execute_reply": "2023-07-12T18:07:43.061900Z"
    },
    "papermill": {
     "duration": 0.017563,
     "end_time": "2023-07-12T18:07:43.064516",
     "exception": false,
     "start_time": "2023-07-12T18:07:43.046953",
     "status": "completed"
    },
    "tags": []
   },
   "outputs": [
    {
     "data": {
      "text/plain": [
       "Index(['address', 'name', 'online_order', 'book_table', 'rate', 'votes',\n",
       "       'location', 'rest_type', 'cuisines', 'approx_cost(for two people)',\n",
       "       'listed_in(type)'],\n",
       "      dtype='object')"
      ]
     },
     "execution_count": 7,
     "metadata": {},
     "output_type": "execute_result"
    }
   ],
   "source": [
    "df.columns"
   ]
  },
  {
   "cell_type": "code",
   "execution_count": 8,
   "id": "d9cd0a87",
   "metadata": {
    "execution": {
     "iopub.execute_input": "2023-07-12T18:07:43.085194Z",
     "iopub.status.busy": "2023-07-12T18:07:43.084612Z",
     "iopub.status.idle": "2023-07-12T18:07:43.089218Z",
     "shell.execute_reply": "2023-07-12T18:07:43.088484Z"
    },
    "papermill": {
     "duration": 0.017289,
     "end_time": "2023-07-12T18:07:43.091137",
     "exception": false,
     "start_time": "2023-07-12T18:07:43.073848",
     "status": "completed"
    },
    "tags": []
   },
   "outputs": [],
   "source": [
    "df.rename(columns={'rate':'rating','approx_cost(for two people)':'approx_cost_for_2_ppl',\n",
    "                   'listed_in(type)':'restaurant_type'}, inplace=True)"
   ]
  },
  {
   "cell_type": "code",
   "execution_count": 9,
   "id": "5e917710",
   "metadata": {
    "execution": {
     "iopub.execute_input": "2023-07-12T18:07:43.111853Z",
     "iopub.status.busy": "2023-07-12T18:07:43.111281Z",
     "iopub.status.idle": "2023-07-12T18:07:43.123641Z",
     "shell.execute_reply": "2023-07-12T18:07:43.122935Z"
    },
    "papermill": {
     "duration": 0.024932,
     "end_time": "2023-07-12T18:07:43.125550",
     "exception": false,
     "start_time": "2023-07-12T18:07:43.100618",
     "status": "completed"
    },
    "tags": []
   },
   "outputs": [
    {
     "data": {
      "text/html": [
       "<div>\n",
       "<style scoped>\n",
       "    .dataframe tbody tr th:only-of-type {\n",
       "        vertical-align: middle;\n",
       "    }\n",
       "\n",
       "    .dataframe tbody tr th {\n",
       "        vertical-align: top;\n",
       "    }\n",
       "\n",
       "    .dataframe thead th {\n",
       "        text-align: right;\n",
       "    }\n",
       "</style>\n",
       "<table border=\"1\" class=\"dataframe\">\n",
       "  <thead>\n",
       "    <tr style=\"text-align: right;\">\n",
       "      <th></th>\n",
       "      <th>address</th>\n",
       "      <th>name</th>\n",
       "      <th>online_order</th>\n",
       "      <th>book_table</th>\n",
       "      <th>rating</th>\n",
       "      <th>votes</th>\n",
       "      <th>location</th>\n",
       "      <th>rest_type</th>\n",
       "      <th>cuisines</th>\n",
       "      <th>approx_cost_for_2_ppl</th>\n",
       "      <th>restaurant_type</th>\n",
       "    </tr>\n",
       "  </thead>\n",
       "  <tbody>\n",
       "    <tr>\n",
       "      <th>0</th>\n",
       "      <td>942, 21st Main Road, 2nd Stage, Banashankari, ...</td>\n",
       "      <td>Jalsa</td>\n",
       "      <td>Yes</td>\n",
       "      <td>Yes</td>\n",
       "      <td>4.1/5</td>\n",
       "      <td>775</td>\n",
       "      <td>Banashankari</td>\n",
       "      <td>Casual Dining</td>\n",
       "      <td>North Indian, Mughlai, Chinese</td>\n",
       "      <td>800</td>\n",
       "      <td>Buffet</td>\n",
       "    </tr>\n",
       "    <tr>\n",
       "      <th>1</th>\n",
       "      <td>2nd Floor, 80 Feet Road, Near Big Bazaar, 6th ...</td>\n",
       "      <td>Spice Elephant</td>\n",
       "      <td>Yes</td>\n",
       "      <td>No</td>\n",
       "      <td>4.1/5</td>\n",
       "      <td>787</td>\n",
       "      <td>Banashankari</td>\n",
       "      <td>Casual Dining</td>\n",
       "      <td>Chinese, North Indian, Thai</td>\n",
       "      <td>800</td>\n",
       "      <td>Buffet</td>\n",
       "    </tr>\n",
       "    <tr>\n",
       "      <th>2</th>\n",
       "      <td>1112, Next to KIMS Medical College, 17th Cross...</td>\n",
       "      <td>San Churro Cafe</td>\n",
       "      <td>Yes</td>\n",
       "      <td>No</td>\n",
       "      <td>3.8/5</td>\n",
       "      <td>918</td>\n",
       "      <td>Banashankari</td>\n",
       "      <td>Cafe, Casual Dining</td>\n",
       "      <td>Cafe, Mexican, Italian</td>\n",
       "      <td>800</td>\n",
       "      <td>Buffet</td>\n",
       "    </tr>\n",
       "  </tbody>\n",
       "</table>\n",
       "</div>"
      ],
      "text/plain": [
       "                                             address             name  \\\n",
       "0  942, 21st Main Road, 2nd Stage, Banashankari, ...            Jalsa   \n",
       "1  2nd Floor, 80 Feet Road, Near Big Bazaar, 6th ...   Spice Elephant   \n",
       "2  1112, Next to KIMS Medical College, 17th Cross...  San Churro Cafe   \n",
       "\n",
       "  online_order book_table rating  votes      location            rest_type  \\\n",
       "0          Yes        Yes  4.1/5    775  Banashankari        Casual Dining   \n",
       "1          Yes         No  4.1/5    787  Banashankari        Casual Dining   \n",
       "2          Yes         No  3.8/5    918  Banashankari  Cafe, Casual Dining   \n",
       "\n",
       "                         cuisines approx_cost_for_2_ppl restaurant_type  \n",
       "0  North Indian, Mughlai, Chinese                   800          Buffet  \n",
       "1     Chinese, North Indian, Thai                   800          Buffet  \n",
       "2          Cafe, Mexican, Italian                   800          Buffet  "
      ]
     },
     "execution_count": 9,
     "metadata": {},
     "output_type": "execute_result"
    }
   ],
   "source": [
    "df.head(3)"
   ]
  },
  {
   "cell_type": "markdown",
   "id": "d6c11a10",
   "metadata": {
    "papermill": {
     "duration": 0.009549,
     "end_time": "2023-07-12T18:07:43.144705",
     "exception": false,
     "start_time": "2023-07-12T18:07:43.135156",
     "status": "completed"
    },
    "tags": []
   },
   "source": [
    "## Handling Null Values in Each Column"
   ]
  },
  {
   "cell_type": "code",
   "execution_count": 10,
   "id": "2b3a7ba0",
   "metadata": {
    "execution": {
     "iopub.execute_input": "2023-07-12T18:07:43.165860Z",
     "iopub.status.busy": "2023-07-12T18:07:43.165466Z",
     "iopub.status.idle": "2023-07-12T18:07:43.247266Z",
     "shell.execute_reply": "2023-07-12T18:07:43.246539Z"
    },
    "papermill": {
     "duration": 0.094883,
     "end_time": "2023-07-12T18:07:43.249099",
     "exception": false,
     "start_time": "2023-07-12T18:07:43.154216",
     "status": "completed"
    },
    "tags": []
   },
   "outputs": [
    {
     "data": {
      "text/plain": [
       "address                     0\n",
       "name                        0\n",
       "online_order                0\n",
       "book_table                  0\n",
       "rating                   7775\n",
       "votes                       0\n",
       "location                   21\n",
       "rest_type                 227\n",
       "cuisines                   45\n",
       "approx_cost_for_2_ppl     346\n",
       "restaurant_type             0\n",
       "dtype: int64"
      ]
     },
     "execution_count": 10,
     "metadata": {},
     "output_type": "execute_result"
    }
   ],
   "source": [
    "df.isnull().sum()"
   ]
  },
  {
   "cell_type": "code",
   "execution_count": 11,
   "id": "e9e3eafc",
   "metadata": {
    "execution": {
     "iopub.execute_input": "2023-07-12T18:07:43.270053Z",
     "iopub.status.busy": "2023-07-12T18:07:43.269392Z",
     "iopub.status.idle": "2023-07-12T18:07:43.279835Z",
     "shell.execute_reply": "2023-07-12T18:07:43.278860Z"
    },
    "papermill": {
     "duration": 0.023525,
     "end_time": "2023-07-12T18:07:43.282112",
     "exception": false,
     "start_time": "2023-07-12T18:07:43.258587",
     "status": "completed"
    },
    "tags": []
   },
   "outputs": [
    {
     "data": {
      "text/plain": [
       "array(['4.1/5', '3.8/5', '3.7/5', '3.6/5', '4.6/5', '4.0/5', '4.2/5',\n",
       "       '3.9/5', '3.1/5', '3.0/5', '3.2/5', '3.3/5', '2.8/5', '4.4/5',\n",
       "       '4.3/5', 'NEW', '2.9/5', '3.5/5', nan, '2.6/5', '3.8 /5', '3.4/5',\n",
       "       '4.5/5', '2.5/5', '2.7/5', '4.7/5', '2.4/5', '2.2/5', '2.3/5',\n",
       "       '3.4 /5', '-', '3.6 /5', '4.8/5', '3.9 /5', '4.2 /5', '4.0 /5',\n",
       "       '4.1 /5', '3.7 /5', '3.1 /5', '2.9 /5', '3.3 /5', '2.8 /5',\n",
       "       '3.5 /5', '2.7 /5', '2.5 /5', '3.2 /5', '2.6 /5', '4.5 /5',\n",
       "       '4.3 /5', '4.4 /5', '4.9/5', '2.1/5', '2.0/5', '1.8/5', '4.6 /5',\n",
       "       '4.9 /5', '3.0 /5', '4.8 /5', '2.3 /5', '4.7 /5', '2.4 /5',\n",
       "       '2.1 /5', '2.2 /5', '2.0 /5', '1.8 /5'], dtype=object)"
      ]
     },
     "execution_count": 11,
     "metadata": {},
     "output_type": "execute_result"
    }
   ],
   "source": [
    "#Handling rate, location, rest_type, cuisines, approx_cost(for two people)\n",
    "df['rating'].unique()"
   ]
  },
  {
   "cell_type": "code",
   "execution_count": 12,
   "id": "a45148d8",
   "metadata": {
    "execution": {
     "iopub.execute_input": "2023-07-12T18:07:43.303313Z",
     "iopub.status.busy": "2023-07-12T18:07:43.302927Z",
     "iopub.status.idle": "2023-07-12T18:07:43.308436Z",
     "shell.execute_reply": "2023-07-12T18:07:43.307709Z"
    },
    "papermill": {
     "duration": 0.018673,
     "end_time": "2023-07-12T18:07:43.310464",
     "exception": false,
     "start_time": "2023-07-12T18:07:43.291791",
     "status": "completed"
    },
    "tags": []
   },
   "outputs": [],
   "source": [
    "def handlerate(x):\n",
    "    if x=='NEW' or x=='-':\n",
    "        return np.nan\n",
    "    else:\n",
    "        x = str(x).split(\"/\")\n",
    "        x = x[0]\n",
    "        return float(x)"
   ]
  },
  {
   "cell_type": "code",
   "execution_count": 13,
   "id": "2cbb1467",
   "metadata": {
    "execution": {
     "iopub.execute_input": "2023-07-12T18:07:43.331873Z",
     "iopub.status.busy": "2023-07-12T18:07:43.331153Z",
     "iopub.status.idle": "2023-07-12T18:07:43.376768Z",
     "shell.execute_reply": "2023-07-12T18:07:43.375562Z"
    },
    "papermill": {
     "duration": 0.059305,
     "end_time": "2023-07-12T18:07:43.379438",
     "exception": false,
     "start_time": "2023-07-12T18:07:43.320133",
     "status": "completed"
    },
    "tags": []
   },
   "outputs": [],
   "source": [
    "df['rating'] = df['rating'].apply(handlerate)"
   ]
  },
  {
   "cell_type": "code",
   "execution_count": 14,
   "id": "784b955e",
   "metadata": {
    "execution": {
     "iopub.execute_input": "2023-07-12T18:07:43.401098Z",
     "iopub.status.busy": "2023-07-12T18:07:43.400714Z",
     "iopub.status.idle": "2023-07-12T18:07:43.410114Z",
     "shell.execute_reply": "2023-07-12T18:07:43.409296Z"
    },
    "papermill": {
     "duration": 0.022492,
     "end_time": "2023-07-12T18:07:43.412096",
     "exception": false,
     "start_time": "2023-07-12T18:07:43.389604",
     "status": "completed"
    },
    "tags": []
   },
   "outputs": [
    {
     "data": {
      "text/plain": [
       "array([4.1, 3.8, 3.7, 3.6, 4.6, 4. , 4.2, 3.9, 3.1, 3. , 3.2, 3.3, 2.8,\n",
       "       4.4, 4.3, nan, 2.9, 3.5, 2.6, 3.4, 4.5, 2.5, 2.7, 4.7, 2.4, 2.2,\n",
       "       2.3, 4.8, 4.9, 2.1, 2. , 1.8])"
      ]
     },
     "execution_count": 14,
     "metadata": {},
     "output_type": "execute_result"
    }
   ],
   "source": [
    "df['rating'].unique()"
   ]
  },
  {
   "cell_type": "code",
   "execution_count": 15,
   "id": "260b4f54",
   "metadata": {
    "execution": {
     "iopub.execute_input": "2023-07-12T18:07:43.434182Z",
     "iopub.status.busy": "2023-07-12T18:07:43.433171Z",
     "iopub.status.idle": "2023-07-12T18:07:43.508974Z",
     "shell.execute_reply": "2023-07-12T18:07:43.507717Z"
    },
    "papermill": {
     "duration": 0.089419,
     "end_time": "2023-07-12T18:07:43.511458",
     "exception": false,
     "start_time": "2023-07-12T18:07:43.422039",
     "status": "completed"
    },
    "tags": []
   },
   "outputs": [
    {
     "data": {
      "text/plain": [
       "address                      0\n",
       "name                         0\n",
       "online_order                 0\n",
       "book_table                   0\n",
       "rating                   10052\n",
       "votes                        0\n",
       "location                    21\n",
       "rest_type                  227\n",
       "cuisines                    45\n",
       "approx_cost_for_2_ppl      346\n",
       "restaurant_type              0\n",
       "dtype: int64"
      ]
     },
     "execution_count": 15,
     "metadata": {},
     "output_type": "execute_result"
    }
   ],
   "source": [
    "df.isnull().sum()"
   ]
  },
  {
   "cell_type": "code",
   "execution_count": 16,
   "id": "187c8c59",
   "metadata": {
    "execution": {
     "iopub.execute_input": "2023-07-12T18:07:43.533272Z",
     "iopub.status.busy": "2023-07-12T18:07:43.532900Z",
     "iopub.status.idle": "2023-07-12T18:07:43.550693Z",
     "shell.execute_reply": "2023-07-12T18:07:43.549564Z"
    },
    "papermill": {
     "duration": 0.031476,
     "end_time": "2023-07-12T18:07:43.553125",
     "exception": false,
     "start_time": "2023-07-12T18:07:43.521649",
     "status": "completed"
    },
    "tags": []
   },
   "outputs": [],
   "source": [
    "df['location'].fillna(method='bfill', inplace=True)"
   ]
  },
  {
   "cell_type": "code",
   "execution_count": 17,
   "id": "25b88938",
   "metadata": {
    "execution": {
     "iopub.execute_input": "2023-07-12T18:07:43.575399Z",
     "iopub.status.busy": "2023-07-12T18:07:43.574474Z",
     "iopub.status.idle": "2023-07-12T18:07:43.651190Z",
     "shell.execute_reply": "2023-07-12T18:07:43.649900Z"
    },
    "papermill": {
     "duration": 0.090253,
     "end_time": "2023-07-12T18:07:43.653530",
     "exception": false,
     "start_time": "2023-07-12T18:07:43.563277",
     "status": "completed"
    },
    "tags": []
   },
   "outputs": [
    {
     "data": {
      "text/plain": [
       "address                      0\n",
       "name                         0\n",
       "online_order                 0\n",
       "book_table                   0\n",
       "rating                   10052\n",
       "votes                        0\n",
       "location                     0\n",
       "rest_type                  227\n",
       "cuisines                    45\n",
       "approx_cost_for_2_ppl      346\n",
       "restaurant_type              0\n",
       "dtype: int64"
      ]
     },
     "execution_count": 17,
     "metadata": {},
     "output_type": "execute_result"
    }
   ],
   "source": [
    "df.isnull().sum()"
   ]
  },
  {
   "cell_type": "code",
   "execution_count": 18,
   "id": "5243d7f0",
   "metadata": {
    "execution": {
     "iopub.execute_input": "2023-07-12T18:07:43.676313Z",
     "iopub.status.busy": "2023-07-12T18:07:43.675659Z",
     "iopub.status.idle": "2023-07-12T18:07:43.684819Z",
     "shell.execute_reply": "2023-07-12T18:07:43.683857Z"
    },
    "papermill": {
     "duration": 0.022804,
     "end_time": "2023-07-12T18:07:43.686750",
     "exception": false,
     "start_time": "2023-07-12T18:07:43.663946",
     "status": "completed"
    },
    "tags": []
   },
   "outputs": [
    {
     "data": {
      "text/plain": [
       "93"
      ]
     },
     "execution_count": 18,
     "metadata": {},
     "output_type": "execute_result"
    }
   ],
   "source": [
    "df['rest_type'].nunique()"
   ]
  },
  {
   "cell_type": "code",
   "execution_count": 19,
   "id": "e7160c40",
   "metadata": {
    "execution": {
     "iopub.execute_input": "2023-07-12T18:07:43.709792Z",
     "iopub.status.busy": "2023-07-12T18:07:43.709397Z",
     "iopub.status.idle": "2023-07-12T18:07:43.718135Z",
     "shell.execute_reply": "2023-07-12T18:07:43.717127Z"
    },
    "papermill": {
     "duration": 0.023006,
     "end_time": "2023-07-12T18:07:43.720311",
     "exception": false,
     "start_time": "2023-07-12T18:07:43.697305",
     "status": "completed"
    },
    "tags": []
   },
   "outputs": [],
   "source": [
    "df['rest_type'].fillna(value='others', inplace=True)"
   ]
  },
  {
   "cell_type": "code",
   "execution_count": 20,
   "id": "1f7f8aa6",
   "metadata": {
    "execution": {
     "iopub.execute_input": "2023-07-12T18:07:43.743336Z",
     "iopub.status.busy": "2023-07-12T18:07:43.742971Z",
     "iopub.status.idle": "2023-07-12T18:07:43.749720Z",
     "shell.execute_reply": "2023-07-12T18:07:43.748648Z"
    },
    "papermill": {
     "duration": 0.020724,
     "end_time": "2023-07-12T18:07:43.751902",
     "exception": false,
     "start_time": "2023-07-12T18:07:43.731178",
     "status": "completed"
    },
    "tags": []
   },
   "outputs": [
    {
     "data": {
      "text/plain": [
       "(51717, 11)"
      ]
     },
     "execution_count": 20,
     "metadata": {},
     "output_type": "execute_result"
    }
   ],
   "source": [
    "df.shape"
   ]
  },
  {
   "cell_type": "code",
   "execution_count": 21,
   "id": "2e1847a4",
   "metadata": {
    "execution": {
     "iopub.execute_input": "2023-07-12T18:07:43.775141Z",
     "iopub.status.busy": "2023-07-12T18:07:43.774202Z",
     "iopub.status.idle": "2023-07-12T18:07:43.788020Z",
     "shell.execute_reply": "2023-07-12T18:07:43.786949Z"
    },
    "papermill": {
     "duration": 0.027798,
     "end_time": "2023-07-12T18:07:43.790320",
     "exception": false,
     "start_time": "2023-07-12T18:07:43.762522",
     "status": "completed"
    },
    "tags": []
   },
   "outputs": [],
   "source": [
    "df['approx_cost_for_2_ppl'].fillna(method='ffill', inplace=True)"
   ]
  },
  {
   "cell_type": "code",
   "execution_count": 22,
   "id": "fa407f7d",
   "metadata": {
    "execution": {
     "iopub.execute_input": "2023-07-12T18:07:43.812505Z",
     "iopub.status.busy": "2023-07-12T18:07:43.812112Z",
     "iopub.status.idle": "2023-07-12T18:07:43.820882Z",
     "shell.execute_reply": "2023-07-12T18:07:43.819868Z"
    },
    "papermill": {
     "duration": 0.022399,
     "end_time": "2023-07-12T18:07:43.823130",
     "exception": false,
     "start_time": "2023-07-12T18:07:43.800731",
     "status": "completed"
    },
    "tags": []
   },
   "outputs": [],
   "source": [
    "df['cuisines'].fillna(value='others', inplace=True)"
   ]
  },
  {
   "cell_type": "code",
   "execution_count": 23,
   "id": "72a8d873",
   "metadata": {
    "execution": {
     "iopub.execute_input": "2023-07-12T18:07:43.846097Z",
     "iopub.status.busy": "2023-07-12T18:07:43.845212Z",
     "iopub.status.idle": "2023-07-12T18:07:43.923879Z",
     "shell.execute_reply": "2023-07-12T18:07:43.923036Z"
    },
    "papermill": {
     "duration": 0.092522,
     "end_time": "2023-07-12T18:07:43.926161",
     "exception": false,
     "start_time": "2023-07-12T18:07:43.833639",
     "status": "completed"
    },
    "tags": []
   },
   "outputs": [],
   "source": [
    "df.dropna(how='any', inplace=True)"
   ]
  },
  {
   "cell_type": "code",
   "execution_count": 24,
   "id": "87699b4e",
   "metadata": {
    "execution": {
     "iopub.execute_input": "2023-07-12T18:07:43.949020Z",
     "iopub.status.busy": "2023-07-12T18:07:43.948650Z",
     "iopub.status.idle": "2023-07-12T18:07:44.012877Z",
     "shell.execute_reply": "2023-07-12T18:07:44.011888Z"
    },
    "papermill": {
     "duration": 0.078446,
     "end_time": "2023-07-12T18:07:44.015179",
     "exception": false,
     "start_time": "2023-07-12T18:07:43.936733",
     "status": "completed"
    },
    "tags": []
   },
   "outputs": [
    {
     "data": {
      "text/plain": [
       "address                  0\n",
       "name                     0\n",
       "online_order             0\n",
       "book_table               0\n",
       "rating                   0\n",
       "votes                    0\n",
       "location                 0\n",
       "rest_type                0\n",
       "cuisines                 0\n",
       "approx_cost_for_2_ppl    0\n",
       "restaurant_type          0\n",
       "dtype: int64"
      ]
     },
     "execution_count": 24,
     "metadata": {},
     "output_type": "execute_result"
    }
   ],
   "source": [
    "df.isnull().sum()"
   ]
  },
  {
   "cell_type": "markdown",
   "id": "fbaff529",
   "metadata": {
    "papermill": {
     "duration": 0.010183,
     "end_time": "2023-07-12T18:07:44.036127",
     "exception": false,
     "start_time": "2023-07-12T18:07:44.025944",
     "status": "completed"
    },
    "tags": []
   },
   "source": [
    "## Handling Outliers"
   ]
  },
  {
   "cell_type": "code",
   "execution_count": 25,
   "id": "818c9a93",
   "metadata": {
    "execution": {
     "iopub.execute_input": "2023-07-12T18:07:44.059531Z",
     "iopub.status.busy": "2023-07-12T18:07:44.059184Z",
     "iopub.status.idle": "2023-07-12T18:07:44.074272Z",
     "shell.execute_reply": "2023-07-12T18:07:44.073165Z"
    },
    "papermill": {
     "duration": 0.029743,
     "end_time": "2023-07-12T18:07:44.076421",
     "exception": false,
     "start_time": "2023-07-12T18:07:44.046678",
     "status": "completed"
    },
    "tags": []
   },
   "outputs": [
    {
     "data": {
      "text/html": [
       "<div>\n",
       "<style scoped>\n",
       "    .dataframe tbody tr th:only-of-type {\n",
       "        vertical-align: middle;\n",
       "    }\n",
       "\n",
       "    .dataframe tbody tr th {\n",
       "        vertical-align: top;\n",
       "    }\n",
       "\n",
       "    .dataframe thead th {\n",
       "        text-align: right;\n",
       "    }\n",
       "</style>\n",
       "<table border=\"1\" class=\"dataframe\">\n",
       "  <thead>\n",
       "    <tr style=\"text-align: right;\">\n",
       "      <th></th>\n",
       "      <th>address</th>\n",
       "      <th>name</th>\n",
       "      <th>online_order</th>\n",
       "      <th>book_table</th>\n",
       "      <th>rating</th>\n",
       "      <th>votes</th>\n",
       "      <th>location</th>\n",
       "      <th>rest_type</th>\n",
       "      <th>cuisines</th>\n",
       "      <th>approx_cost_for_2_ppl</th>\n",
       "      <th>restaurant_type</th>\n",
       "    </tr>\n",
       "  </thead>\n",
       "  <tbody>\n",
       "    <tr>\n",
       "      <th>0</th>\n",
       "      <td>942, 21st Main Road, 2nd Stage, Banashankari, ...</td>\n",
       "      <td>Jalsa</td>\n",
       "      <td>Yes</td>\n",
       "      <td>Yes</td>\n",
       "      <td>4.1</td>\n",
       "      <td>775</td>\n",
       "      <td>Banashankari</td>\n",
       "      <td>Casual Dining</td>\n",
       "      <td>North Indian, Mughlai, Chinese</td>\n",
       "      <td>800</td>\n",
       "      <td>Buffet</td>\n",
       "    </tr>\n",
       "    <tr>\n",
       "      <th>1</th>\n",
       "      <td>2nd Floor, 80 Feet Road, Near Big Bazaar, 6th ...</td>\n",
       "      <td>Spice Elephant</td>\n",
       "      <td>Yes</td>\n",
       "      <td>No</td>\n",
       "      <td>4.1</td>\n",
       "      <td>787</td>\n",
       "      <td>Banashankari</td>\n",
       "      <td>Casual Dining</td>\n",
       "      <td>Chinese, North Indian, Thai</td>\n",
       "      <td>800</td>\n",
       "      <td>Buffet</td>\n",
       "    </tr>\n",
       "    <tr>\n",
       "      <th>2</th>\n",
       "      <td>1112, Next to KIMS Medical College, 17th Cross...</td>\n",
       "      <td>San Churro Cafe</td>\n",
       "      <td>Yes</td>\n",
       "      <td>No</td>\n",
       "      <td>3.8</td>\n",
       "      <td>918</td>\n",
       "      <td>Banashankari</td>\n",
       "      <td>Cafe, Casual Dining</td>\n",
       "      <td>Cafe, Mexican, Italian</td>\n",
       "      <td>800</td>\n",
       "      <td>Buffet</td>\n",
       "    </tr>\n",
       "  </tbody>\n",
       "</table>\n",
       "</div>"
      ],
      "text/plain": [
       "                                             address             name  \\\n",
       "0  942, 21st Main Road, 2nd Stage, Banashankari, ...            Jalsa   \n",
       "1  2nd Floor, 80 Feet Road, Near Big Bazaar, 6th ...   Spice Elephant   \n",
       "2  1112, Next to KIMS Medical College, 17th Cross...  San Churro Cafe   \n",
       "\n",
       "  online_order book_table  rating  votes      location            rest_type  \\\n",
       "0          Yes        Yes     4.1    775  Banashankari        Casual Dining   \n",
       "1          Yes         No     4.1    787  Banashankari        Casual Dining   \n",
       "2          Yes         No     3.8    918  Banashankari  Cafe, Casual Dining   \n",
       "\n",
       "                         cuisines approx_cost_for_2_ppl restaurant_type  \n",
       "0  North Indian, Mughlai, Chinese                   800          Buffet  \n",
       "1     Chinese, North Indian, Thai                   800          Buffet  \n",
       "2          Cafe, Mexican, Italian                   800          Buffet  "
      ]
     },
     "execution_count": 25,
     "metadata": {},
     "output_type": "execute_result"
    }
   ],
   "source": [
    "df.head(3)"
   ]
  },
  {
   "cell_type": "code",
   "execution_count": 26,
   "id": "8ee05b48",
   "metadata": {
    "execution": {
     "iopub.execute_input": "2023-07-12T18:07:44.099724Z",
     "iopub.status.busy": "2023-07-12T18:07:44.099343Z",
     "iopub.status.idle": "2023-07-12T18:07:44.109303Z",
     "shell.execute_reply": "2023-07-12T18:07:44.108200Z"
    },
    "papermill": {
     "duration": 0.024179,
     "end_time": "2023-07-12T18:07:44.111332",
     "exception": false,
     "start_time": "2023-07-12T18:07:44.087153",
     "status": "completed"
    },
    "tags": []
   },
   "outputs": [],
   "source": [
    "location = df['location'].value_counts(ascending = False)"
   ]
  },
  {
   "cell_type": "code",
   "execution_count": 27,
   "id": "e599d49b",
   "metadata": {
    "execution": {
     "iopub.execute_input": "2023-07-12T18:07:44.134676Z",
     "iopub.status.busy": "2023-07-12T18:07:44.134319Z",
     "iopub.status.idle": "2023-07-12T18:07:44.139002Z",
     "shell.execute_reply": "2023-07-12T18:07:44.137899Z"
    },
    "papermill": {
     "duration": 0.018779,
     "end_time": "2023-07-12T18:07:44.140938",
     "exception": false,
     "start_time": "2023-07-12T18:07:44.122159",
     "status": "completed"
    },
    "tags": []
   },
   "outputs": [],
   "source": [
    "location_less_than_500 = location[location<500]"
   ]
  },
  {
   "cell_type": "code",
   "execution_count": 28,
   "id": "a959b300",
   "metadata": {
    "execution": {
     "iopub.execute_input": "2023-07-12T18:07:44.163928Z",
     "iopub.status.busy": "2023-07-12T18:07:44.163530Z",
     "iopub.status.idle": "2023-07-12T18:07:44.168041Z",
     "shell.execute_reply": "2023-07-12T18:07:44.167007Z"
    },
    "papermill": {
     "duration": 0.01846,
     "end_time": "2023-07-12T18:07:44.170008",
     "exception": false,
     "start_time": "2023-07-12T18:07:44.151548",
     "status": "completed"
    },
    "tags": []
   },
   "outputs": [],
   "source": [
    "def handle_rest(x):\n",
    "    if (x in location_less_than_500):\n",
    "        return 'others'\n",
    "    else:\n",
    "        return x"
   ]
  },
  {
   "cell_type": "code",
   "execution_count": 29,
   "id": "a4e4a2e5",
   "metadata": {
    "execution": {
     "iopub.execute_input": "2023-07-12T18:07:44.192975Z",
     "iopub.status.busy": "2023-07-12T18:07:44.192588Z",
     "iopub.status.idle": "2023-07-12T18:07:44.291217Z",
     "shell.execute_reply": "2023-07-12T18:07:44.290333Z"
    },
    "papermill": {
     "duration": 0.113091,
     "end_time": "2023-07-12T18:07:44.293781",
     "exception": false,
     "start_time": "2023-07-12T18:07:44.180690",
     "status": "completed"
    },
    "tags": []
   },
   "outputs": [],
   "source": [
    "df['location'] = df['location'].apply(handle_rest)"
   ]
  },
  {
   "cell_type": "code",
   "execution_count": 30,
   "id": "3dfcd2f5",
   "metadata": {
    "execution": {
     "iopub.execute_input": "2023-07-12T18:07:44.317720Z",
     "iopub.status.busy": "2023-07-12T18:07:44.316756Z",
     "iopub.status.idle": "2023-07-12T18:07:44.325357Z",
     "shell.execute_reply": "2023-07-12T18:07:44.324355Z"
    },
    "papermill": {
     "duration": 0.022502,
     "end_time": "2023-07-12T18:07:44.327405",
     "exception": false,
     "start_time": "2023-07-12T18:07:44.304903",
     "status": "completed"
    },
    "tags": []
   },
   "outputs": [],
   "source": [
    "rest_type = df['rest_type'].value_counts(ascending=False)"
   ]
  },
  {
   "cell_type": "code",
   "execution_count": 31,
   "id": "6ab571bc",
   "metadata": {
    "execution": {
     "iopub.execute_input": "2023-07-12T18:07:44.350924Z",
     "iopub.status.busy": "2023-07-12T18:07:44.350137Z",
     "iopub.status.idle": "2023-07-12T18:07:44.354427Z",
     "shell.execute_reply": "2023-07-12T18:07:44.353772Z"
    },
    "papermill": {
     "duration": 0.018096,
     "end_time": "2023-07-12T18:07:44.356324",
     "exception": false,
     "start_time": "2023-07-12T18:07:44.338228",
     "status": "completed"
    },
    "tags": []
   },
   "outputs": [],
   "source": [
    "rest_type_less_than_1000 = rest_type[rest_type < 1000]"
   ]
  },
  {
   "cell_type": "code",
   "execution_count": 32,
   "id": "ab658f88",
   "metadata": {
    "execution": {
     "iopub.execute_input": "2023-07-12T18:07:44.379724Z",
     "iopub.status.busy": "2023-07-12T18:07:44.379156Z",
     "iopub.status.idle": "2023-07-12T18:07:44.383307Z",
     "shell.execute_reply": "2023-07-12T18:07:44.382357Z"
    },
    "papermill": {
     "duration": 0.018173,
     "end_time": "2023-07-12T18:07:44.385319",
     "exception": false,
     "start_time": "2023-07-12T18:07:44.367146",
     "status": "completed"
    },
    "tags": []
   },
   "outputs": [],
   "source": [
    "def handlerest_type(x):\n",
    "    if (x in rest_type_less_than_1000):\n",
    "        return 'others'\n",
    "    else:\n",
    "        return x"
   ]
  },
  {
   "cell_type": "code",
   "execution_count": 33,
   "id": "9d7ad660",
   "metadata": {
    "execution": {
     "iopub.execute_input": "2023-07-12T18:07:44.411157Z",
     "iopub.status.busy": "2023-07-12T18:07:44.410757Z",
     "iopub.status.idle": "2023-07-12T18:07:44.511887Z",
     "shell.execute_reply": "2023-07-12T18:07:44.510784Z"
    },
    "papermill": {
     "duration": 0.116954,
     "end_time": "2023-07-12T18:07:44.514371",
     "exception": false,
     "start_time": "2023-07-12T18:07:44.397417",
     "status": "completed"
    },
    "tags": []
   },
   "outputs": [],
   "source": [
    "df['rest_type'] = df['rest_type'].apply(handlerest_type)"
   ]
  },
  {
   "cell_type": "code",
   "execution_count": 34,
   "id": "892a27b3",
   "metadata": {
    "execution": {
     "iopub.execute_input": "2023-07-12T18:07:44.538049Z",
     "iopub.status.busy": "2023-07-12T18:07:44.537652Z",
     "iopub.status.idle": "2023-07-12T18:07:44.547124Z",
     "shell.execute_reply": "2023-07-12T18:07:44.546180Z"
    },
    "papermill": {
     "duration": 0.024135,
     "end_time": "2023-07-12T18:07:44.549454",
     "exception": false,
     "start_time": "2023-07-12T18:07:44.525319",
     "status": "completed"
    },
    "tags": []
   },
   "outputs": [],
   "source": [
    "cuisines = df['cuisines'].value_counts(ascending=False)"
   ]
  },
  {
   "cell_type": "code",
   "execution_count": 35,
   "id": "d9cc7f94",
   "metadata": {
    "execution": {
     "iopub.execute_input": "2023-07-12T18:07:44.573026Z",
     "iopub.status.busy": "2023-07-12T18:07:44.572634Z",
     "iopub.status.idle": "2023-07-12T18:07:44.578321Z",
     "shell.execute_reply": "2023-07-12T18:07:44.577352Z"
    },
    "papermill": {
     "duration": 0.019859,
     "end_time": "2023-07-12T18:07:44.580576",
     "exception": false,
     "start_time": "2023-07-12T18:07:44.560717",
     "status": "completed"
    },
    "tags": []
   },
   "outputs": [],
   "source": [
    "cuisines_less_than_300 = cuisines[cuisines<300]"
   ]
  },
  {
   "cell_type": "code",
   "execution_count": 36,
   "id": "be255612",
   "metadata": {
    "execution": {
     "iopub.execute_input": "2023-07-12T18:07:44.604399Z",
     "iopub.status.busy": "2023-07-12T18:07:44.604027Z",
     "iopub.status.idle": "2023-07-12T18:07:44.608891Z",
     "shell.execute_reply": "2023-07-12T18:07:44.607751Z"
    },
    "papermill": {
     "duration": 0.019331,
     "end_time": "2023-07-12T18:07:44.610829",
     "exception": false,
     "start_time": "2023-07-12T18:07:44.591498",
     "status": "completed"
    },
    "tags": []
   },
   "outputs": [],
   "source": [
    "def handle_cuisines(x):\n",
    "    if (x in cuisines_less_than_300):\n",
    "        return 'others'\n",
    "    else:\n",
    "        return x"
   ]
  },
  {
   "cell_type": "code",
   "execution_count": 37,
   "id": "a3d29a2f",
   "metadata": {
    "execution": {
     "iopub.execute_input": "2023-07-12T18:07:44.634722Z",
     "iopub.status.busy": "2023-07-12T18:07:44.634099Z",
     "iopub.status.idle": "2023-07-12T18:07:44.716541Z",
     "shell.execute_reply": "2023-07-12T18:07:44.715354Z"
    },
    "papermill": {
     "duration": 0.097409,
     "end_time": "2023-07-12T18:07:44.719030",
     "exception": false,
     "start_time": "2023-07-12T18:07:44.621621",
     "status": "completed"
    },
    "tags": []
   },
   "outputs": [],
   "source": [
    "df['cuisines'] = df['cuisines'].apply(handle_cuisines)"
   ]
  },
  {
   "cell_type": "code",
   "execution_count": 38,
   "id": "3bb4bc2f",
   "metadata": {
    "execution": {
     "iopub.execute_input": "2023-07-12T18:07:44.742285Z",
     "iopub.status.busy": "2023-07-12T18:07:44.741915Z",
     "iopub.status.idle": "2023-07-12T18:07:44.756745Z",
     "shell.execute_reply": "2023-07-12T18:07:44.755605Z"
    },
    "papermill": {
     "duration": 0.029035,
     "end_time": "2023-07-12T18:07:44.758971",
     "exception": false,
     "start_time": "2023-07-12T18:07:44.729936",
     "status": "completed"
    },
    "tags": []
   },
   "outputs": [
    {
     "data": {
      "text/html": [
       "<div>\n",
       "<style scoped>\n",
       "    .dataframe tbody tr th:only-of-type {\n",
       "        vertical-align: middle;\n",
       "    }\n",
       "\n",
       "    .dataframe tbody tr th {\n",
       "        vertical-align: top;\n",
       "    }\n",
       "\n",
       "    .dataframe thead th {\n",
       "        text-align: right;\n",
       "    }\n",
       "</style>\n",
       "<table border=\"1\" class=\"dataframe\">\n",
       "  <thead>\n",
       "    <tr style=\"text-align: right;\">\n",
       "      <th></th>\n",
       "      <th>address</th>\n",
       "      <th>name</th>\n",
       "      <th>online_order</th>\n",
       "      <th>book_table</th>\n",
       "      <th>rating</th>\n",
       "      <th>votes</th>\n",
       "      <th>location</th>\n",
       "      <th>rest_type</th>\n",
       "      <th>cuisines</th>\n",
       "      <th>approx_cost_for_2_ppl</th>\n",
       "      <th>restaurant_type</th>\n",
       "    </tr>\n",
       "  </thead>\n",
       "  <tbody>\n",
       "    <tr>\n",
       "      <th>0</th>\n",
       "      <td>942, 21st Main Road, 2nd Stage, Banashankari, ...</td>\n",
       "      <td>Jalsa</td>\n",
       "      <td>Yes</td>\n",
       "      <td>Yes</td>\n",
       "      <td>4.1</td>\n",
       "      <td>775</td>\n",
       "      <td>Banashankari</td>\n",
       "      <td>Casual Dining</td>\n",
       "      <td>others</td>\n",
       "      <td>800</td>\n",
       "      <td>Buffet</td>\n",
       "    </tr>\n",
       "    <tr>\n",
       "      <th>1</th>\n",
       "      <td>2nd Floor, 80 Feet Road, Near Big Bazaar, 6th ...</td>\n",
       "      <td>Spice Elephant</td>\n",
       "      <td>Yes</td>\n",
       "      <td>No</td>\n",
       "      <td>4.1</td>\n",
       "      <td>787</td>\n",
       "      <td>Banashankari</td>\n",
       "      <td>Casual Dining</td>\n",
       "      <td>others</td>\n",
       "      <td>800</td>\n",
       "      <td>Buffet</td>\n",
       "    </tr>\n",
       "    <tr>\n",
       "      <th>2</th>\n",
       "      <td>1112, Next to KIMS Medical College, 17th Cross...</td>\n",
       "      <td>San Churro Cafe</td>\n",
       "      <td>Yes</td>\n",
       "      <td>No</td>\n",
       "      <td>3.8</td>\n",
       "      <td>918</td>\n",
       "      <td>Banashankari</td>\n",
       "      <td>others</td>\n",
       "      <td>others</td>\n",
       "      <td>800</td>\n",
       "      <td>Buffet</td>\n",
       "    </tr>\n",
       "  </tbody>\n",
       "</table>\n",
       "</div>"
      ],
      "text/plain": [
       "                                             address             name  \\\n",
       "0  942, 21st Main Road, 2nd Stage, Banashankari, ...            Jalsa   \n",
       "1  2nd Floor, 80 Feet Road, Near Big Bazaar, 6th ...   Spice Elephant   \n",
       "2  1112, Next to KIMS Medical College, 17th Cross...  San Churro Cafe   \n",
       "\n",
       "  online_order book_table  rating  votes      location      rest_type  \\\n",
       "0          Yes        Yes     4.1    775  Banashankari  Casual Dining   \n",
       "1          Yes         No     4.1    787  Banashankari  Casual Dining   \n",
       "2          Yes         No     3.8    918  Banashankari         others   \n",
       "\n",
       "  cuisines approx_cost_for_2_ppl restaurant_type  \n",
       "0   others                   800          Buffet  \n",
       "1   others                   800          Buffet  \n",
       "2   others                   800          Buffet  "
      ]
     },
     "execution_count": 38,
     "metadata": {},
     "output_type": "execute_result"
    }
   ],
   "source": [
    "df.head(3)"
   ]
  }
 ],
 "metadata": {
  "kernelspec": {
   "display_name": "Python 3",
   "language": "python",
   "name": "python3"
  },
  "language_info": {
   "codemirror_mode": {
    "name": "ipython",
    "version": 3
   },
   "file_extension": ".py",
   "mimetype": "text/x-python",
   "name": "python",
   "nbconvert_exporter": "python",
   "pygments_lexer": "ipython3",
   "version": "3.10.12"
  },
  "papermill": {
   "default_parameters": {},
   "duration": 23.404513,
   "end_time": "2023-07-12T18:07:45.592005",
   "environment_variables": {},
   "exception": null,
   "input_path": "__notebook__.ipynb",
   "output_path": "__notebook__.ipynb",
   "parameters": {},
   "start_time": "2023-07-12T18:07:22.187492",
   "version": "2.4.0"
  }
 },
 "nbformat": 4,
 "nbformat_minor": 5
}
